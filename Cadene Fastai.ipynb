{
 "cells": [
  {
   "cell_type": "markdown",
   "metadata": {},
   "source": [
    "https://github.com/TheShadow29/FAI-notes/blob/master/notebooks/Using-Pretrained-Pytorch-Models.ipynb"
   ]
  },
  {
   "cell_type": "code",
   "execution_count": 1,
   "metadata": {},
   "outputs": [],
   "source": [
    "from IPython.core.interactiveshell import InteractiveShell\n",
    "InteractiveShell.ast_node_interactivity = \"all\"\n",
    "\n",
    "import os\n",
    "os.environ[\"CUDA_VISIBLE_DEVICES\"]=\"0\"\n",
    "\n",
    "from fastai.imports import *\n",
    "from fastai.transforms import *\n",
    "from fastai.conv_learner import *\n",
    "from fastai.model import *\n",
    "from fastai.dataset import *\n",
    "from fastai.sgdr import *\n",
    "from fastai.plots import *\n",
    "\n",
    "import pretrainedmodels\n",
    "\n",
    "%reload_ext autoreload\n",
    "%autoreload 2\n",
    "%matplotlib inline"
   ]
  },
  {
   "cell_type": "code",
   "execution_count": 2,
   "metadata": {},
   "outputs": [],
   "source": [
    "PATH = '/root/data/sar_cars/'\n",
    "\n",
    "label_csv = f'{PATH}labels_balanced.csv'\n",
    "n_classes = len(pd.read_csv(label_csv).car.unique())\n",
    "\n",
    "n_samples = len(list(open(label_csv)))-1\n",
    "val_idxs = get_cv_idxs(n_samples)"
   ]
  },
  {
   "cell_type": "code",
   "execution_count": 3,
   "metadata": {},
   "outputs": [],
   "source": [
    "tfms_model = resnet50\n",
    "\n",
    "def get_data(sz,bs):    \n",
    "    tfms = tfms_from_model(tfms_model, sz)\n",
    "    return ImageClassifierData.from_csv(PATH, 'train', label_csv, tfms=tfms,\n",
    "                    suffix='.png', val_idxs=val_idxs, bs=bs)\n",
    "\n",
    "data64 = get_data(64,32)\n",
    "data160 = get_data(160,16)"
   ]
  },
  {
   "cell_type": "code",
   "execution_count": 4,
   "metadata": {},
   "outputs": [
    {
     "name": "stdout",
     "output_type": "stream",
     "text": [
      "['fbresnet152', 'bninception', 'resnext101_32x4d', 'resnext101_64x4d', 'inceptionv4', 'inceptionresnetv2', 'alexnet', 'densenet121', 'densenet169', 'densenet201', 'densenet161', 'resnet18', 'resnet34', 'resnet50', 'resnet101', 'resnet152', 'inceptionv3', 'squeezenet1_0', 'squeezenet1_1', 'vgg11', 'vgg11_bn', 'vgg13', 'vgg13_bn', 'vgg16', 'vgg16_bn', 'vgg19_bn', 'vgg19', 'nasnetamobile', 'nasnetalarge', 'dpn68', 'dpn68b', 'dpn92', 'dpn98', 'dpn131', 'dpn107', 'xception', 'senet154', 'se_resnet50', 'se_resnet101', 'se_resnet152', 'se_resnext50_32x4d', 'se_resnext101_32x4d', 'cafferesnet101', 'pnasnet5large', 'polynet']\n"
     ]
    }
   ],
   "source": [
    "print(pretrainedmodels.model_names)"
   ]
  },
  {
   "cell_type": "code",
   "execution_count": 5,
   "metadata": {},
   "outputs": [
    {
     "data": {
      "text/plain": [
       "[AvgPool2d(kernel_size=7, stride=1, padding=0, ceil_mode=False, count_include_pad=True),\n",
       " Linear(in_features=2048, out_features=1000, bias=True)]"
      ]
     },
     "execution_count": 5,
     "metadata": {},
     "output_type": "execute_result"
    }
   ],
   "source": [
    "# select and load cadene model with imagenet weights (and classes), print last two layers\n",
    "model_name = 'se_resnet50'\n",
    "model_cadene = pretrainedmodels.__dict__[model_name](num_classes=1000,pretrained='imagenet')\n",
    "list(children(model_cadene))[-2:]"
   ]
  },
  {
   "cell_type": "markdown",
   "metadata": {},
   "source": [
    "Must modify last few layers of the model. For Fastai models, `ConvLearner.pretrained()` changes the `AvgPool2d` to `AdaptiveConcatPool2d`, Flattens it, adds Linear layers with batch norms and ReLU, adds dropout, and finally puts a LogSoftmax layer.\n",
    "\n",
    "Adaptive pooling layers used to allow model to use any image size. It specifies output size rather than kernel size."
   ]
  },
  {
   "cell_type": "code",
   "execution_count": 6,
   "metadata": {},
   "outputs": [
    {
     "name": "stdout",
     "output_type": "stream",
     "text": [
      "Variable containing:\n",
      "  0.0000   0.0000   0.4647  ...    0.0000   0.1459   0.0007\n",
      "  0.0364   0.0000   0.9534  ...    0.0000   0.0038   0.0000\n",
      "  0.0000   0.0000   3.7666  ...    0.0000   0.0000   0.8244\n",
      "           ...               ⋱              ...            \n",
      "  0.0000   0.0000   0.0000  ...    0.0000   0.0000   0.0618\n",
      "  0.0000   0.0000   0.9601  ...    0.0143   0.2130   0.3754\n",
      "  1.8363   4.8294   0.0000  ...    0.0000   1.0548   3.9862\n",
      "[torch.cuda.FloatTensor of size 32x4096 (GPU 0)]\n",
      "\n",
      "Variable containing:\n",
      "  1.1202   1.0428   1.9617  ...    0.5303   0.2443   0.4317\n",
      "  4.4056   0.0000   1.0109  ...    0.2052   0.0000   0.7821\n",
      "  1.3392   0.0000   0.0000  ...    0.0213   1.4398   0.4620\n",
      "           ...               ⋱              ...            \n",
      "  1.1088   0.0000   0.0000  ...    0.6518   0.0714   0.1992\n",
      "  0.4545   4.9761   1.4528  ...    0.1872   0.7669   0.2571\n",
      "  2.2814   1.1381   2.4471  ...    0.0132   0.1558   0.9335\n",
      "[torch.cuda.FloatTensor of size 16x4096 (GPU 0)]\n",
      "\n"
     ]
    }
   ],
   "source": [
    "# Basic: create basic custom head,  add to model, load into ConvLearner\n",
    "for data in [data64, data160]:\n",
    "\n",
    "    custom_head = nn.Sequential(AdaptiveConcatPool2d(), Flatten())\n",
    "    cadene_model = nn.Sequential(*list(children(model_cadene))[:-2], custom_head)\n",
    "    learn_tmp = ConvLearner.from_model_data(cadene_model, data)\n",
    "    # Do all this first time just to check output size (and consistency across data size):\n",
    "    print(learn_tmp.models.model(V(next(iter(data.trn_dl))[0])))"
   ]
  },
  {
   "cell_type": "code",
   "execution_count": 7,
   "metadata": {},
   "outputs": [],
   "source": [
    "output_size = 4096\n",
    "\n",
    "# create more detailed custom head, add to model, load into ConvLearner\n",
    "custom_head = nn.Sequential(AdaptiveConcatPool2d(), Flatten(), nn.BatchNorm1d(output_size),\n",
    "                            nn.Linear(in_features=output_size, out_features=512), nn.ReLU(),\n",
    "                            nn.BatchNorm1d(512), nn.Linear(in_features=512, out_features=n_classes),\n",
    "                            nn.LogSoftmax())\n",
    "cadene_model = nn.Sequential(*list(children(model_cadene))[:-2], custom_head)\n",
    "learn = ConvLearner.from_model_data(cadene_model, data)"
   ]
  },
  {
   "cell_type": "code",
   "execution_count": 8,
   "metadata": {},
   "outputs": [
    {
     "data": {
      "application/vnd.jupyter.widget-view+json": {
       "model_id": "f484054025714bcaa12de41e5593c157",
       "version_major": 2,
       "version_minor": 0
      },
      "text/plain": [
       "HBox(children=(IntProgress(value=0, description='Epoch', max=1), HTML(value='')))"
      ]
     },
     "metadata": {},
     "output_type": "display_data"
    },
    {
     "name": "stdout",
     "output_type": "stream",
     "text": [
      " 82%|████████▏ | 1714/2078 [03:08<00:40,  9.08it/s, loss=6.91]"
     ]
    },
    {
     "data": {
      "image/png": "[encoded data removed]",
      "text/plain": [
       "<Figure size 432x288 with 1 Axes>"
      ]
     },
     "metadata": {},
     "output_type": "display_data"
    }
   ],
   "source": [
    "lrf=learn.lr_find()\n",
    "learn.sched.plot()"
   ]
  },
  {
   "cell_type": "code",
   "execution_count": null,
   "metadata": {},
   "outputs": [
    {
     "data": {
      "application/vnd.jupyter.widget-view+json": {
       "model_id": "f7fd8e7265f947eb96325938d83048ee",
       "version_major": 2,
       "version_minor": 0
      },
      "text/plain": [
       "HBox(children=(IntProgress(value=0, description='Epoch', max=5), HTML(value='')))"
      ]
     },
     "metadata": {},
     "output_type": "display_data"
    },
    {
     "name": "stdout",
     "output_type": "stream",
     "text": [
      "epoch      trn_loss   val_loss   accuracy                     \n",
      "    0      1.770632   40.927366  0.19521   \n",
      "  1%|          | 18/2078 [00:02<04:14,  8.08it/s, loss=1.78]"
     ]
    }
   ],
   "source": [
    "learn.fit(1e-1, 5, cycle_len=1, cycle_mult=1, best_save_name='best_mod', metrics=[accuracy])\n",
    "learn.sched.plot_loss()"
   ]
  },
  {
   "cell_type": "code",
   "execution_count": null,
   "metadata": {},
   "outputs": [],
   "source": []
  }
 ],
 "metadata": {
  "kernelspec": {
   "display_name": "Python 3",
   "language": "python",
   "name": "python3"
  },
  "language_info": {
   "codemirror_mode": {
    "name": "ipython",
    "version": 3
   },
   "file_extension": ".py",
   "mimetype": "text/x-python",
   "name": "python",
   "nbconvert_exporter": "python",
   "pygments_lexer": "ipython3",
   "version": "3.6.5"
  }
 },
 "nbformat": 4,
 "nbformat_minor": 2
}
