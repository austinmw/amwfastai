{
 "cells": [
  {
   "cell_type": "code",
   "execution_count": 1,
   "metadata": {},
   "outputs": [],
   "source": [
    "from IPython.core.interactiveshell import InteractiveShell\n",
    "InteractiveShell.ast_node_interactivity = \"all\"\n",
    "import os\n",
    "os.environ[\"CUDA_VISIBLE_DEVICES\"]=\"1\"\n",
    "\n",
    "from fastai.imports import *\n",
    "from fastai.conv_learner import *"
   ]
  },
  {
   "cell_type": "code",
   "execution_count": 2,
   "metadata": {},
   "outputs": [],
   "source": [
    "PATH = '/root/data/sar_cars/'\n",
    "\n",
    "label_csv = f'{PATH}labels_balanced.csv'\n",
    "n = len(list(open(label_csv)))-1\n",
    "val_idxs = get_cv_idxs(n)\n",
    "\n",
    "#from fastai.models.cifar10.senet import SENet18\n",
    "#f_model = SENet18()\n",
    "\n",
    "f_model = resnet50\n",
    "\n",
    "def get_data(sz,bs):    \n",
    "    tfms = tfms_from_model(f_model, sz)\n",
    "    return ImageClassifierData.from_csv(PATH, 'train', label_csv, tfms=tfms,\n",
    "                    suffix='.png', val_idxs=val_idxs, bs=bs)\n",
    "\n",
    "data = get_data(160,32)"
   ]
  },
  {
   "cell_type": "code",
   "execution_count": 3,
   "metadata": {},
   "outputs": [
    {
     "data": {
      "application/vnd.jupyter.widget-view+json": {
       "model_id": "534d0737f5ce4e99b9cffae5af79dd38",
       "version_major": 2,
       "version_minor": 0
      },
      "text/plain": [
       "HBox(children=(IntProgress(value=0, description='Epoch', max=1), HTML(value='')))"
      ]
     },
     "metadata": {},
     "output_type": "display_data"
    },
    {
     "name": "stdout",
     "output_type": "stream",
     "text": [
      " 79%|███████▉  | 826/1039 [01:28<00:22,  9.31it/s, loss=7.46]"
     ]
    },
    {
     "data": {
      "image/png": "[encoded data removed]",
      "text/plain": [
       "<Figure size 432x288 with 1 Axes>"
      ]
     },
     "metadata": {},
     "output_type": "display_data"
    }
   ],
   "source": [
    "learn  = ConvLearner.pretrained(f_model, data, pretrained=False, precompute=False)\n",
    "learn.unfreeze()\n",
    "assert learn.model[0].trainable == True\n",
    "lrf=learn.lr_find()\n",
    "learn.sched.plot()"
   ]
  },
  {
   "cell_type": "code",
   "execution_count": null,
   "metadata": {},
   "outputs": [
    {
     "data": {
      "application/vnd.jupyter.widget-view+json": {
       "model_id": "5b8ee1e2636744529bff68f098be1df5",
       "version_major": 2,
       "version_minor": 0
      },
      "text/plain": [
       "HBox(children=(IntProgress(value=0, description='Epoch', max=40), HTML(value='')))"
      ]
     },
     "metadata": {},
     "output_type": "display_data"
    },
    {
     "name": "stdout",
     "output_type": "stream",
     "text": [
      "epoch      trn_loss   val_loss   accuracy                     \n",
      "    0      1.950559   1.695427   0.295583  \n",
      "    1      1.895822   1.669413   0.301119                     \n",
      "    2      1.778746   1.592626   0.340835                     \n",
      "    3      1.717038   1.581844   0.346612                     \n",
      "    4      1.689668   1.535339   0.360573                     \n",
      "    5      1.618161   1.515085   0.374534                     \n",
      "    6      1.597175   1.475706   0.404381                     \n",
      "    7      1.554895   1.46092    0.405705                     \n",
      "    8      1.537718   1.421428   0.435913                     \n",
      "    9      1.473295   1.404013   0.442412                     \n",
      "    10     1.436116   1.362634   0.463473                     \n",
      "    11     1.369814   1.348741   0.472259                     \n",
      "    12     1.372486   1.303484   0.495126                     \n",
      "    13     1.343099   1.296478   0.495246                     \n",
      "    14     1.288476   1.250768   0.520881                     \n",
      "    15     1.213905   1.235254   0.532074                     \n",
      "    16     1.204554   1.206145   0.536527                     \n",
      "    17     1.145306   1.193265   0.542785                     \n",
      "    18     1.143202   1.164944   0.561319                     \n",
      "    19     1.011563   1.143908   0.565652                     \n",
      "    20     1.022696   1.112353   0.577687                     \n",
      "    21     0.941422   1.094727   0.588398                      \n",
      "    22     0.961213   1.07288    0.59261                       \n",
      "    23     0.808373   1.058596   0.601637                      \n",
      "    24     0.861869   1.03277    0.614033                      \n",
      "    25     0.720546   1.017964   0.620773                      \n",
      "    26     0.756665   1.006576   0.62679                       \n",
      "    27     0.621469   0.992651   0.63016                       \n",
      "    28     0.655261   0.997301   0.633049                      \n",
      "    29     0.547727   0.986335   0.638946                      \n",
      "    30     0.558983   1.007451   0.633289                      \n",
      "    31     0.436151   0.982929   0.645685                      \n",
      "    32     0.513045   1.003654   0.644602                      \n",
      " 18%|█▊        | 182/1039 [00:20<01:36,  8.91it/s, loss=0.391]"
     ]
    }
   ],
   "source": [
    "learn.fit(1e-4, 20, cycle_len=2, cycle_mult=1)"
   ]
  },
  {
   "cell_type": "raw",
   "metadata": {},
   "source": [
    "also overfitting, add dropout, augmentations"
   ]
  },
  {
   "cell_type": "raw",
   "metadata": {},
   "source": [
    "resnet18: learn.fit(1e-4, 20, cycle_len=2, cycle_mult=1), frozen, last val: 0.297388\n",
    "resnet50: learn.fit(1e-4, 20, cycle_len=2, cycle_mult=1), unfrozen, last val: "
   ]
  },
  {
   "cell_type": "raw",
   "metadata": {},
   "source": [
    "#learner  = ConvLearner.from_model_data(resnet34(), data)\n",
    "#learner.fit(1e-2, 1, cycle_len=1, cycle_mult=1)\n",
    "\n",
    "# with BasicModel and SENet18\n",
    "bm = BasicModel(f_model.cuda(), name='blah')\n",
    "learn = ConvLearner(data, bm)\n",
    "\n",
    "lrf=learn.lr_find()\n",
    "learn.sched.plot()\n",
    "\n",
    "lr = 2e-3\n",
    "%time learn.fit(1e-2, 3, cycle_len=1, cycle_mult=2)\n",
    "learn.sched.plot_loss()\n",
    "\n",
    "#ConvLearner.from_model_data()"
   ]
  }
 ],
 "metadata": {
  "kernelspec": {
   "display_name": "Python 3",
   "language": "python",
   "name": "python3"
  },
  "language_info": {
   "codemirror_mode": {
    "name": "ipython",
    "version": 3
   },
   "file_extension": ".py",
   "mimetype": "text/x-python",
   "name": "python",
   "nbconvert_exporter": "python",
   "pygments_lexer": "ipython3",
   "version": "3.6.5"
  }
 },
 "nbformat": 4,
 "nbformat_minor": 2
}
